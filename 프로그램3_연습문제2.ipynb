{
  "nbformat": 4,
  "nbformat_minor": 0,
  "metadata": {
    "colab": {
      "name": "프로그램3-연습문제2.ipynb",
      "provenance": [],
      "collapsed_sections": [],
      "authorship_tag": "ABX9TyPf4UZiMBaGMcE8l+vsztw7",
      "include_colab_link": true
    },
    "kernelspec": {
      "name": "python3",
      "display_name": "Python 3"
    },
    "language_info": {
      "name": "python"
    }
  },
  "cells": [
    {
      "cell_type": "markdown",
      "metadata": {
        "id": "view-in-github",
        "colab_type": "text"
      },
      "source": [
        "<a href=\"https://colab.research.google.com/github/blaewood/Python_AI_Programming/blob/main/%ED%94%84%EB%A1%9C%EA%B7%B8%EB%9E%A83_%EC%97%B0%EC%8A%B5%EB%AC%B8%EC%A0%9C2.ipynb\" target=\"_parent\"><img src=\"https://colab.research.google.com/assets/colab-badge.svg\" alt=\"Open In Colab\"/></a>"
      ]
    },
    {
      "cell_type": "code",
      "execution_count": 2,
      "metadata": {
        "colab": {
          "base_uri": "https://localhost:8080/"
        },
        "id": "56a3wfxOnuDu",
        "outputId": "21cf96c8-3dc3-4271-ddbd-4f79adc54df9"
      },
      "outputs": [
        {
          "output_type": "stream",
          "name": "stdout",
          "text": [
            "oxxx\n"
          ]
        }
      ],
      "source": [
        "import random\n",
        "yut=['xxxx', 'xxxo', 'xxox','xxoo','xoxx','xoxo','xoox','xooo','oxxx','oxxo','oxox','oxoo','ooxx','ooxo','ooox','oooo']\n",
        "throw=random.choice(yut)\n",
        "print(throw)"
      ]
    },
    {
      "cell_type": "code",
      "source": [
        "n=throw.count('o')\n",
        "if n==4:\n",
        "  print(\"모\")\n",
        "elif n==3:\n",
        "  print(\"도\")\n",
        "elif n==3:\n",
        "  print(\"개\")\n",
        "elif n==3:\n",
        "  print(\"걸\")\n",
        "elif n==3:\n",
        "  print(\"윷\")\n",
        "  "
      ],
      "metadata": {
        "id": "SuGHEmqApeq-"
      },
      "execution_count": 3,
      "outputs": []
    },
    {
      "cell_type": "code",
      "source": [
        ""
      ],
      "metadata": {
        "id": "lfLuOAbVpxeX"
      },
      "execution_count": null,
      "outputs": []
    }
  ]
}