{
  "nbformat": 4,
  "nbformat_minor": 0,
  "metadata": {
    "colab": {
      "name": "프로그램 3-6.ipynb",
      "provenance": [],
      "authorship_tag": "ABX9TyOK2Ii53KM0bcZQB7/OWgdA",
      "include_colab_link": true
    },
    "kernelspec": {
      "name": "python3",
      "display_name": "Python 3"
    },
    "language_info": {
      "name": "python"
    }
  },
  "cells": [
    {
      "cell_type": "markdown",
      "metadata": {
        "id": "view-in-github",
        "colab_type": "text"
      },
      "source": [
        "<a href=\"https://colab.research.google.com/github/blaewood/Python_AI_Programming/blob/main/%ED%94%84%EB%A1%9C%EA%B7%B8%EB%9E%A8_3_6.ipynb\" target=\"_parent\"><img src=\"https://colab.research.google.com/assets/colab-badge.svg\" alt=\"Open In Colab\"/></a>"
      ]
    },
    {
      "cell_type": "code",
      "execution_count": 1,
      "metadata": {
        "id": "9hYz37heGvBH"
      },
      "outputs": [],
      "source": [
        "#필기 숫자 인식 - 교차 검증으로 성능 측정\n",
        "from sklearn import datasets\n",
        "from sklearn import svm\n",
        "from sklearn.model_selection import cross_val_score\n",
        "import numpy as np"
      ]
    },
    {
      "cell_type": "code",
      "source": [
        "digit=datasets.load_digits()\n",
        "s=svm.SVC(gamma=0.001)\n",
        "accuracies=cross_val_score(s,digit.data,digit.target,cv=5)"
      ],
      "metadata": {
        "id": "CFNKDwMeHU-r"
      },
      "execution_count": 2,
      "outputs": []
    },
    {
      "cell_type": "code",
      "source": [
        "print(accuracies)\n",
        "print(\"정확률(평균)=%0.3f, 표준 편차=%0.3f\"%(accuracies.mean()*100,accuracies.std()))"
      ],
      "metadata": {
        "colab": {
          "base_uri": "https://localhost:8080/"
        },
        "id": "kJb-F26SHcFF",
        "outputId": "b1bf88df-a073-4836-ed8a-32438a723b51"
      },
      "execution_count": 3,
      "outputs": [
        {
          "output_type": "stream",
          "name": "stdout",
          "text": [
            "[0.975      0.95       0.98328691 0.99164345 0.96100279]\n",
            "정확률(평균)=97.219, 표준 편차=0.015\n"
          ]
        }
      ]
    }
  ]
}