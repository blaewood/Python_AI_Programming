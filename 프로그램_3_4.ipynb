{
  "nbformat": 4,
  "nbformat_minor": 0,
  "metadata": {
    "colab": {
      "name": "프로그램 3-4.ipynb",
      "provenance": [],
      "collapsed_sections": [],
      "authorship_tag": "ABX9TyO/Qy8xqEdEcqTP/A1helpP",
      "include_colab_link": true
    },
    "kernelspec": {
      "name": "python3",
      "display_name": "Python 3"
    },
    "language_info": {
      "name": "python"
    }
  },
  "cells": [
    {
      "cell_type": "markdown",
      "metadata": {
        "id": "view-in-github",
        "colab_type": "text"
      },
      "source": [
        "<a href=\"https://colab.research.google.com/github/blaewood/Python_AI_Programming/blob/main/%ED%94%84%EB%A1%9C%EA%B7%B8%EB%9E%A8_3_4.ipynb\" target=\"_parent\"><img src=\"https://colab.research.google.com/assets/colab-badge.svg\" alt=\"Open In Colab\"/></a>"
      ]
    },
    {
      "cell_type": "code",
      "execution_count": 1,
      "metadata": {
        "id": "_vDfV4PiDH44"
      },
      "outputs": [],
      "source": [
        "#필기 숫자 인식 - 각 화소를 특징으로 간주하여 64차원 특징 벡터 사용\n",
        "from sklearn import datasets\n",
        "from sklearn import svm"
      ]
    },
    {
      "cell_type": "code",
      "source": [
        "digit=datasets.load_digits()\n",
        "\n",
        "s=svm.SVC(gamma=0.1,C=10)\n",
        "s.fit(digit.data, digit.target)"
      ],
      "metadata": {
        "colab": {
          "base_uri": "https://localhost:8080/"
        },
        "id": "JA8ZzlSeDVhN",
        "outputId": "66eeff05-7630-410f-fec1-c00e8ed1f820"
      },
      "execution_count": 4,
      "outputs": [
        {
          "output_type": "execute_result",
          "data": {
            "text/plain": [
              "SVC(C=10, gamma=0.1)"
            ]
          },
          "metadata": {},
          "execution_count": 4
        }
      ]
    },
    {
      "cell_type": "code",
      "source": [
        "new_d=[digit.data[0], digit.data[1],digit.data[2]]\n",
        "res=s.predict(new_d)\n",
        "print(\"예측값은\", res)\n",
        "print(\"참값은\", digit.target[0],digit.target[1],digit.target[2])\n"
      ],
      "metadata": {
        "colab": {
          "base_uri": "https://localhost:8080/"
        },
        "id": "GHCk3brbDiwd",
        "outputId": "df4fc6e3-69e8-4c06-d961-1d7e657c5eef"
      },
      "execution_count": 5,
      "outputs": [
        {
          "output_type": "stream",
          "name": "stdout",
          "text": [
            "예측값은 [0 1 2]\n",
            "참값은 0 1 2\n"
          ]
        }
      ]
    },
    {
      "cell_type": "code",
      "source": [
        "res=s.predict(digit.data)\n",
        "correct=[i for i in range(len(res)) if res[i]==digit.target[i]]\n",
        "accuracy=len(correct)/len(res)\n",
        "print(\"화소 특징을 사용했을 때 정확률=\", accuracy*100, \"%\")"
      ],
      "metadata": {
        "colab": {
          "base_uri": "https://localhost:8080/"
        },
        "id": "8YDvnR25D_14",
        "outputId": "c7a1f86f-eee1-4063-b7ea-d0a487e3a278"
      },
      "execution_count": 9,
      "outputs": [
        {
          "output_type": "stream",
          "name": "stdout",
          "text": [
            "화소 특징을 사용했을 때 정확률= 100.0 %\n"
          ]
        }
      ]
    }
  ]
}