{
  "nbformat": 4,
  "nbformat_minor": 0,
  "metadata": {
    "colab": {
      "name": "프로그램 4-1.ipynb",
      "provenance": [],
      "collapsed_sections": [],
      "authorship_tag": "ABX9TyOYj8Ix8oGDnHe9PgrUdyUM",
      "include_colab_link": true
    },
    "kernelspec": {
      "name": "python3",
      "display_name": "Python 3"
    },
    "language_info": {
      "name": "python"
    }
  },
  "cells": [
    {
      "cell_type": "markdown",
      "metadata": {
        "id": "view-in-github",
        "colab_type": "text"
      },
      "source": [
        "<a href=\"https://colab.research.google.com/github/blaewood/Python_AI_Programming/blob/main/%ED%94%84%EB%A1%9C%EA%B7%B8%EB%9E%A8_4_1.ipynb\" target=\"_parent\"><img src=\"https://colab.research.google.com/assets/colab-badge.svg\" alt=\"Open In Colab\"/></a>"
      ]
    },
    {
      "cell_type": "code",
      "execution_count": 1,
      "metadata": {
        "id": "hOi-UhzhNlzs"
      },
      "outputs": [],
      "source": [
        "from sklearn.linear_model import Perceptron #sklearn 라이브러리에서 퍼셉트론을 제공하기 때문에 그대로 이용한다."
      ]
    },
    {
      "cell_type": "code",
      "source": [
        "X=[[0,0],[0,1],[1,0],[1,1]]  #훈련데이터 만들기\n",
        "y=[-1,1,1,1]\n",
        "\n",
        "p=Perceptron() #Perceptron 함수를 호출해 객체 p를 생성\n",
        "p.fit(X,y) #학습과정"
      ],
      "metadata": {
        "colab": {
          "base_uri": "https://localhost:8080/"
        },
        "id": "sXbD53dlNsap",
        "outputId": "bd499ac8-7717-4a95-f9d4-f1cd11848fa0"
      },
      "execution_count": 4,
      "outputs": [
        {
          "output_type": "execute_result",
          "data": {
            "text/plain": [
              "Perceptron()"
            ]
          },
          "metadata": {},
          "execution_count": 4
        }
      ]
    },
    {
      "cell_type": "code",
      "source": [
        "print(\"학습된 퍼셉트론의 매개변수: \", p.coef_,p.intercept_)   #coef_는 가중치 w1,w2이고, intercept_는 가중치 w0이다.\n",
        "print(\"훈련집합에 대한 예측: \", p.predict(X))                 #훈련집합을 테스트집합으로 간주하고 새롭게 예측 수행\n",
        "print(\"정확률 측정: \", p.score(X,y)*100,\"%\")                  #X를 퍼셉트론으로 예측한 결과의 정확률을 측정한다."
      ],
      "metadata": {
        "id": "2JG9JaCDN8eL"
      },
      "execution_count": null,
      "outputs": []
    }
  ]
}