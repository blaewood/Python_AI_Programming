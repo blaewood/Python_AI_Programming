{
  "nbformat": 4,
  "nbformat_minor": 0,
  "metadata": {
    "colab": {
      "name": "프로그램 3-5.ipynb",
      "provenance": [],
      "collapsed_sections": [],
      "authorship_tag": "ABX9TyN8jj7Sb1A6Rybe7Fmt3B7P",
      "include_colab_link": true
    },
    "kernelspec": {
      "name": "python3",
      "display_name": "Python 3"
    },
    "language_info": {
      "name": "python"
    }
  },
  "cells": [
    {
      "cell_type": "markdown",
      "metadata": {
        "id": "view-in-github",
        "colab_type": "text"
      },
      "source": [
        "<a href=\"https://colab.research.google.com/github/blaewood/Python_AI_Programming/blob/main/%ED%94%84%EB%A1%9C%EA%B7%B8%EB%9E%A8_3_5.ipynb\" target=\"_parent\"><img src=\"https://colab.research.google.com/assets/colab-badge.svg\" alt=\"Open In Colab\"/></a>"
      ]
    },
    {
      "cell_type": "code",
      "execution_count": 1,
      "metadata": {
        "id": "J8BFEvKtErpc"
      },
      "outputs": [],
      "source": [
        "#필기 숫자 인식 - 훈련 집합으로 학습하고 테스트 집합으로 성능 측정\n",
        "from sklearn import datasets\n",
        "from sklearn import svm\n",
        "from sklearn.model_selection import train_test_split\n",
        "import numpy as np"
      ]
    },
    {
      "cell_type": "code",
      "source": [
        "digit=datasets.load_digits()\n",
        "x_train,x_test,y_train,y_test=train_test_split(digit.data,digit.target, train_size=0.6)\n"
      ],
      "metadata": {
        "id": "g2agGMwzFDAz"
      },
      "execution_count": 2,
      "outputs": []
    },
    {
      "cell_type": "code",
      "source": [
        "s=svm.SVC(gamma=0.001)\n",
        "s.fit(x_train, y_train)"
      ],
      "metadata": {
        "colab": {
          "base_uri": "https://localhost:8080/"
        },
        "id": "Oecta4qoFgVk",
        "outputId": "d2c8f185-844e-40bf-a270-90ed96a642c1"
      },
      "execution_count": 8,
      "outputs": [
        {
          "output_type": "execute_result",
          "data": {
            "text/plain": [
              "SVC(gamma=0.001)"
            ]
          },
          "metadata": {},
          "execution_count": 8
        }
      ]
    },
    {
      "cell_type": "code",
      "source": [
        "res=s.predict(x_test)"
      ],
      "metadata": {
        "id": "NFLzuY4iFoha"
      },
      "execution_count": 9,
      "outputs": []
    },
    {
      "cell_type": "code",
      "source": [
        "conf=np.zeros((10,10))\n",
        "for i in range(len(res)):\n",
        "  conf[res[i]][y_test[i]]+=1\n",
        "print(conf)"
      ],
      "metadata": {
        "colab": {
          "base_uri": "https://localhost:8080/"
        },
        "id": "QInmPXY2Fq9t",
        "outputId": "d8d26183-ff69-40e9-d8e5-f42089a7d0bd"
      },
      "execution_count": 10,
      "outputs": [
        {
          "output_type": "stream",
          "name": "stdout",
          "text": [
            "[[71.  0.  0.  0.  0.  0.  0.  0.  0.  0.]\n",
            " [ 0. 68.  0.  0.  0.  0.  0.  0.  2.  0.]\n",
            " [ 0.  0. 60.  0.  0.  0.  0.  0.  0.  0.]\n",
            " [ 0.  0.  0. 63.  0.  0.  0.  0.  0.  0.]\n",
            " [ 0.  0.  0.  0. 86.  1.  0.  0.  0.  0.]\n",
            " [ 0.  0.  0.  1.  0. 71.  0.  0.  0.  1.]\n",
            " [ 0.  0.  0.  0.  0.  0. 74.  0.  0.  0.]\n",
            " [ 0.  0.  0.  1.  1.  0.  0. 74.  0.  0.]\n",
            " [ 0.  0.  0.  0.  0.  0.  0.  0. 81.  0.]\n",
            " [ 0.  0.  0.  0.  0.  1.  0.  1.  1. 61.]]\n"
          ]
        }
      ]
    },
    {
      "cell_type": "code",
      "source": [
        "no_correct=0\n",
        "for i in range(10):\n",
        "  no_correct+=conf[i][i]\n",
        "accuracy=no_correct/len(res)\n",
        "print(\"테스트ㅡ 집합에 대한 정확률은\", accuracy*100,\"%입니다.\")"
      ],
      "metadata": {
        "colab": {
          "base_uri": "https://localhost:8080/"
        },
        "id": "ZHfUu5d4F5kA",
        "outputId": "eb7f6749-1fbd-4849-beee-13b2cfe39dfe"
      },
      "execution_count": 11,
      "outputs": [
        {
          "output_type": "stream",
          "name": "stdout",
          "text": [
            "테스트ㅡ 집합에 대한 정확률은 98.60917941585535 %입니다.\n"
          ]
        }
      ]
    }
  ]
}